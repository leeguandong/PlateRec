{
 "cells": [
  {
   "cell_type": "code",
   "execution_count": 2,
   "metadata": {},
   "outputs": [
    {
     "name": "stdout",
     "output_type": "stream",
     "text": [
      "/usr/bin/sh: paddle2onnx: command not found\n"
     ]
    }
   ],
   "source": [
    "!paddle2onnx --model_dir output_inference/ppyoloe_crn_l_300e_coco --model_filename model.pdmodel --params_filename model.pdiparams --opset_version 11 --save_file ppyoloe_crn_l_300e_coco.onnx\n"
   ]
  },
  {
   "cell_type": "code",
   "execution_count": 4,
   "metadata": {},
   "outputs": [
    {
     "ename": "SyntaxError",
     "evalue": "invalid syntax (<ipython-input-4-c01d231db5f1>, line 4)",
     "output_type": "error",
     "traceback": [
      "\u001b[0;36m  File \u001b[0;32m\"<ipython-input-4-c01d231db5f1>\"\u001b[0;36m, line \u001b[0;32m4\u001b[0m\n\u001b[0;31m    --opset_version 12  \\\u001b[0m\n\u001b[0m                     ^\u001b[0m\n\u001b[0;31mSyntaxError\u001b[0m\u001b[0;31m:\u001b[0m invalid syntax\n"
     ]
    }
   ],
   "source": [
    "paddle2onnx  --model_dir /home/ivms/local_disk/plate_rec_linux/weights/pp_vehicle/det  \\\n",
    "--model_filename /home/ivms/local_disk/plate_rec_linux/weights/pp_vehicle/det/inference.pdmodel  \\\n",
    "--params_filename /home/ivms/local_disk/plate_rec_linux/weights/pp_vehicle/det/inference.pdiparams \\\n",
    "--opset_version 12  \\\n",
    "--save_file ch_PP-OCRv3_det_infer12.onnx"
   ]
  },
  {
   "cell_type": "code",
   "execution_count": 4,
   "metadata": {},
   "outputs": [
    {
     "name": "stdout",
     "output_type": "stream",
     "text": [
      "/usr/local/python3/lib/python3.6/site-packages/setuptools/depends.py:2: DeprecationWarning: the imp module is deprecated in favour of importlib; see the module's documentation for alternative uses\n",
      "  import imp\n",
      "2023-02-03 17:10:16 [INFO]\tONNX model saved in ch_PP-OCRv3_rec_infer12.onnx\n"
     ]
    }
   ],
   "source": [
    "!paddle2onnx --model_dir /home/ivms/local_disk/plate_rec_linux/weights/pp_vehicle/rec \\\n",
    "            --model_filename /home/ivms/local_disk/plate_rec_linux/weights/pp_vehicle/rec/inference.pdmodel \\\n",
    "            --params_filename /home/ivms/local_disk/plate_rec_linux/weights/pp_vehicle/rec/inference.pdiparams \\\n",
    "            --opset_version 12  \\\n",
    "            --save_file ch_PP-OCRv3_rec_infer12.onnx \n",
    "#             --enable_dev_version True"
   ]
  },
  {
   "cell_type": "code",
   "execution_count": null,
   "metadata": {},
   "outputs": [],
   "source": []
  }
 ],
 "metadata": {
  "kernelspec": {
   "display_name": "Python 3",
   "language": "python",
   "name": "python3"
  },
  "language_info": {
   "codemirror_mode": {
    "name": "ipython",
    "version": 3
   },
   "file_extension": ".py",
   "mimetype": "text/x-python",
   "name": "python",
   "nbconvert_exporter": "python",
   "pygments_lexer": "ipython3",
   "version": "3.6.6"
  }
 },
 "nbformat": 4,
 "nbformat_minor": 2
}
